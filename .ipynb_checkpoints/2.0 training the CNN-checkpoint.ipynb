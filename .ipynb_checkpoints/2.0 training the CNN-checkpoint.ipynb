{
 "cells": [
  {
   "cell_type": "code",
   "execution_count": 1,
   "metadata": {},
   "outputs": [],
   "source": [
    "import numpy as np\n",
    "\n",
    "data=np.load('data.npy')\n",
    "target=np.load('target.npy')\n",
    "\n",
    "#loading the save numpy arrays in the previous code"
   ]
  },
  {
   "cell_type": "code",
   "execution_count": 2,
   "metadata": {},
   "outputs": [],
   "source": [
    "import tensorflow as tf\n",
    "from tensorflow import keras\n",
    "from tensorflow.keras import layers\n",
    "from tensorflow.keras.models import Sequential, load_model\n",
    "from tensorflow.keras.layers import Dense,Activation,Flatten,Dropout\n",
    "from tensorflow.keras.layers import Conv2D,MaxPooling2D\n",
    "from tensorflow.keras.callbacks import ModelCheckpoint\n",
    "\n",
    "model=Sequential()\n",
    "\n",
    "model.add(Conv2D(100,(3,3),input_shape=data.shape[1:]))\n",
    "model.add(Activation('relu'))\n",
    "model.add(MaxPooling2D(pool_size=(2,2)))\n",
    "#The first CNN layer followed by Relu and MaxPooling layers\n",
    "\n",
    "model.add(Conv2D(100,(3,3)))\n",
    "model.add(Activation('relu'))\n",
    "model.add(MaxPooling2D(pool_size=(2,2)))\n",
    "#The second convolution layer followed by Relu and MaxPooling layers\n",
    "\n",
    "model.add(Flatten())\n",
    "model.add(Dropout(0.5))\n",
    "#Flatten layer to stack the output convolutions from second convolution layer\n",
    "model.add(Dense(50,activation='relu'))\n",
    "#Dense layer of 64 neurons\n",
    "model.add(Dense(2,activation='softmax'))\n",
    "#The Final layer with two outputs for two categories\n",
    "\n",
    "model.compile(loss='binary_crossentropy',optimizer='adam',metrics=['accuracy'])"
   ]
  },
  {
   "cell_type": "code",
   "execution_count": 3,
   "metadata": {},
   "outputs": [],
   "source": [
    "from sklearn.model_selection import train_test_split\n",
    "\n",
    "train_data,test_data,train_target,test_target=train_test_split(data,target,test_size=0.1)"
   ]
  },
  {
   "cell_type": "code",
   "execution_count": 4,
   "metadata": {},
   "outputs": [
    {
     "name": "stdout",
     "output_type": "stream",
     "text": [
      "Train on 990 samples, validate on 248 samples\n",
      "Epoch 1/20\n",
      "960/990 [============================>.] - ETA: 2s - loss: 0.7308 - accuracy: 0.4990WARNING:tensorflow:From C:\\ProgramData\\Anaconda3\\lib\\site-packages\\tensorflow_core\\python\\ops\\resource_variable_ops.py:1786: calling BaseResourceVariable.__init__ (from tensorflow.python.ops.resource_variable_ops) with constraint is deprecated and will be removed in a future version.\n",
      "Instructions for updating:\n",
      "If using Keras pass *_constraint arguments to layers.\n",
      "INFO:tensorflow:Assets written to: model-001.model\\assets\n",
      "990/990 [==============================] - 79s 80ms/sample - loss: 0.7292 - accuracy: 0.4980 - val_loss: 0.6637 - val_accuracy: 0.5000\n",
      "Epoch 2/20\n",
      "960/990 [============================>.] - ETA: 2s - loss: 0.6001 - accuracy: 0.6760INFO:tensorflow:Assets written to: model-002.model\\assets\n",
      "990/990 [==============================] - 78s 79ms/sample - loss: 0.5988 - accuracy: 0.6758 - val_loss: 0.4739 - val_accuracy: 0.7460\n",
      "Epoch 3/20\n",
      "960/990 [============================>.] - ETA: 2s - loss: 0.3804 - accuracy: 0.8500INFO:tensorflow:Assets written to: model-003.model\\assets\n",
      "990/990 [==============================] - 83s 84ms/sample - loss: 0.3764 - accuracy: 0.8515 - val_loss: 0.3410 - val_accuracy: 0.8710\n",
      "Epoch 4/20\n",
      "960/990 [============================>.] - ETA: 2s - loss: 0.3014 - accuracy: 0.8760INFO:tensorflow:Assets written to: model-004.model\\assets\n",
      "990/990 [==============================] - 87s 88ms/sample - loss: 0.3017 - accuracy: 0.8758 - val_loss: 0.2918 - val_accuracy: 0.8952\n",
      "Epoch 5/20\n",
      "960/990 [============================>.] - ETA: 2s - loss: 0.2081 - accuracy: 0.9260INFO:tensorflow:Assets written to: model-005.model\\assets\n",
      "990/990 [==============================] - 86s 87ms/sample - loss: 0.2089 - accuracy: 0.9253 - val_loss: 0.2171 - val_accuracy: 0.9032\n",
      "Epoch 6/20\n",
      "960/990 [============================>.] - ETA: 2s - loss: 0.1655 - accuracy: 0.9406INFO:tensorflow:Assets written to: model-006.model\\assets\n",
      "990/990 [==============================] - 85s 86ms/sample - loss: 0.1635 - accuracy: 0.9414 - val_loss: 0.2046 - val_accuracy: 0.9073\n",
      "Epoch 7/20\n",
      "960/990 [============================>.] - ETA: 2s - loss: 0.1357 - accuracy: 0.9448INFO:tensorflow:Assets written to: model-007.model\\assets\n",
      "990/990 [==============================] - 81s 82ms/sample - loss: 0.1385 - accuracy: 0.9444 - val_loss: 0.1846 - val_accuracy: 0.9153\n",
      "Epoch 8/20\n",
      "960/990 [============================>.] - ETA: 2s - loss: 0.1117 - accuracy: 0.9667INFO:tensorflow:Assets written to: model-008.model\\assets\n",
      "990/990 [==============================] - 82s 83ms/sample - loss: 0.1131 - accuracy: 0.9657 - val_loss: 0.1608 - val_accuracy: 0.9315\n",
      "Epoch 9/20\n",
      "990/990 [==============================] - 84s 85ms/sample - loss: 0.0984 - accuracy: 0.9667 - val_loss: 0.3137 - val_accuracy: 0.8871\n",
      "Epoch 10/20\n",
      "990/990 [==============================] - 83s 84ms/sample - loss: 0.1261 - accuracy: 0.9556 - val_loss: 0.2427 - val_accuracy: 0.9234\n",
      "Epoch 11/20\n",
      "960/990 [============================>.] - ETA: 2s - loss: 0.0698 - accuracy: 0.9760INFO:tensorflow:Assets written to: model-011.model\\assets\n",
      "990/990 [==============================] - 91s 92ms/sample - loss: 0.0755 - accuracy: 0.9737 - val_loss: 0.1371 - val_accuracy: 0.9516\n",
      "Epoch 12/20\n",
      "960/990 [============================>.] - ETA: 2s - loss: 0.0586 - accuracy: 0.9833INFO:tensorflow:Assets written to: model-012.model\\assets\n",
      "990/990 [==============================] - 90s 91ms/sample - loss: 0.0580 - accuracy: 0.9838 - val_loss: 0.1294 - val_accuracy: 0.9597\n",
      "Epoch 13/20\n",
      "990/990 [==============================] - 83s 83ms/sample - loss: 0.0609 - accuracy: 0.9808 - val_loss: 0.3157 - val_accuracy: 0.8871\n",
      "Epoch 14/20\n",
      "990/990 [==============================] - 79s 80ms/sample - loss: 0.0984 - accuracy: 0.9697 - val_loss: 0.1417 - val_accuracy: 0.9556\n",
      "Epoch 15/20\n",
      "960/990 [============================>.] - ETA: 2s - loss: 0.0376 - accuracy: 0.9885INFO:tensorflow:Assets written to: model-015.model\\assets\n",
      "990/990 [==============================] - 87s 88ms/sample - loss: 0.0424 - accuracy: 0.9869 - val_loss: 0.1249 - val_accuracy: 0.9637\n",
      "Epoch 16/20\n",
      "960/990 [============================>.] - ETA: 2s - loss: 0.0475 - accuracy: 0.9844INFO:tensorflow:Assets written to: model-016.model\\assets\n",
      "990/990 [==============================] - 85s 86ms/sample - loss: 0.0470 - accuracy: 0.9848 - val_loss: 0.1200 - val_accuracy: 0.9677\n",
      "Epoch 17/20\n",
      "990/990 [==============================] - 84s 85ms/sample - loss: 0.0499 - accuracy: 0.9848 - val_loss: 0.1248 - val_accuracy: 0.9677\n",
      "Epoch 18/20\n",
      "960/990 [============================>.] - ETA: 2s - loss: 0.0254 - accuracy: 0.9937INFO:tensorflow:Assets written to: model-018.model\\assets\n",
      "990/990 [==============================] - 83s 84ms/sample - loss: 0.0251 - accuracy: 0.9939 - val_loss: 0.1125 - val_accuracy: 0.9637\n",
      "Epoch 19/20\n",
      "990/990 [==============================] - 84s 85ms/sample - loss: 0.0180 - accuracy: 0.9960 - val_loss: 0.1229 - val_accuracy: 0.9718\n",
      "Epoch 20/20\n",
      "990/990 [==============================] - 85s 86ms/sample - loss: 0.0232 - accuracy: 0.9909 - val_loss: 0.1525 - val_accuracy: 0.9677\n"
     ]
    }
   ],
   "source": [
    "checkpoint = ModelCheckpoint('model-{epoch:03d}.model',monitor='val_loss',verbose=0,save_best_only=True,mode='auto')\n",
    "history=model.fit(train_data,train_target,epochs=20,callbacks=[checkpoint],validation_split=0.2)"
   ]
  },
  {
   "cell_type": "code",
   "execution_count": 5,
   "metadata": {},
   "outputs": [
    {
     "data": {
      "text/plain": [
       "<Figure size 640x480 with 1 Axes>"
      ]
     },
     "metadata": {},
     "output_type": "display_data"
    }
   ],
   "source": [
    "from matplotlib import pyplot as plt\n",
    "\n",
    "plt.plot(history.history['loss'],'r',label='training loss')\n",
    "plt.plot(history.history['val_loss'],label='validation loss')\n",
    "plt.xlabel('# epochs')\n",
    "plt.ylabel('loss')\n",
    "plt.legend()\n",
    "plt.show()"
   ]
  },
  {
   "cell_type": "code",
   "execution_count": 6,
   "metadata": {},
   "outputs": [
    {
     "data": {
      "image/png": "[encoded data removed]",
      "text/plain": [
       "<Figure size 432x288 with 1 Axes>"
      ]
     },
     "metadata": {
      "needs_background": "light"
     },
     "output_type": "display_data"
    }
   ],
   "source": [
    "plt.plot(history.history['accuracy'],'r',label='training accuracy')\n",
    "plt.plot(history.history['val_accuracy'],label='validation accuracy')\n",
    "plt.xlabel('# epochs')\n",
    "plt.ylabel('loss')\n",
    "plt.legend()\n",
    "plt.show()"
   ]
  },
  {
   "cell_type": "code",
   "execution_count": 7,
   "metadata": {},
   "outputs": [
    {
     "name": "stdout",
     "output_type": "stream",
     "text": [
      "138/138 [==============================] - 5s 38ms/sample - loss: 0.1291 - accuracy: 0.9420\n",
      "[0.12906496259181396, 0.942029]\n"
     ]
    }
   ],
   "source": [
    "print(model.evaluate(test_data,test_target))"
   ]
  },
  {
   "cell_type": "code",
   "execution_count": null,
   "metadata": {},
   "outputs": [],
   "source": []
  }
 ],
 "metadata": {
  "kernelspec": {
   "display_name": "Python 3",
   "language": "python",
   "name": "python3"
  },
  "language_info": {
   "codemirror_mode": {
    "name": "ipython",
    "version": 3
   },
   "file_extension": ".py",
   "mimetype": "text/x-python",
   "name": "python",
   "nbconvert_exporter": "python",
   "pygments_lexer": "ipython3",
   "version": "3.7.4"
  }
 },
 "nbformat": 4,
 "nbformat_minor": 2
}
